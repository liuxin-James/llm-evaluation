{
 "cells": [
  {
   "cell_type": "code",
   "execution_count": 1,
   "metadata": {
    "collapsed": true,
    "ExecuteTime": {
     "end_time": "2025-04-11T09:13:53.617401200Z",
     "start_time": "2025-04-11T09:13:49.523531700Z"
    }
   },
   "outputs": [
    {
     "name": "stdout",
     "output_type": "stream",
     "text": [
      "(tensor([-0.0898]),)\n",
      "(tensor([-0.0817]),)\n",
      "tensor([-0.0898])\n",
      "tensor([-0.0817])\n",
      "NeuralNetwork(\n",
      "  (layers): Sequential(\n",
      "    (0): Linear(in_features=50, out_features=30, bias=True)\n",
      "    (1): ReLU()\n",
      "    (2): Linear(in_features=30, out_features=20, bias=True)\n",
      "    (3): ReLU()\n",
      "    (4): Linear(in_features=20, out_features=3, bias=True)\n",
      "  )\n",
      ")\n",
      "Total number of trainable model parameters: 2213\n",
      "Parameter containing:\n",
      "tensor([[-0.0577,  0.0047, -0.0702,  ...,  0.0222,  0.1260,  0.0865],\n",
      "        [ 0.0502,  0.0307,  0.0333,  ...,  0.0951,  0.1134, -0.0297],\n",
      "        [ 0.1077, -0.1108,  0.0122,  ...,  0.0108, -0.1049, -0.1063],\n",
      "        ...,\n",
      "        [-0.0787,  0.1259,  0.0803,  ...,  0.1218,  0.1303, -0.1351],\n",
      "        [ 0.1359,  0.0175, -0.0673,  ...,  0.0674,  0.0676,  0.1058],\n",
      "        [ 0.0790,  0.1343, -0.0293,  ...,  0.0344, -0.0971, -0.0509]],\n",
      "       requires_grad=True)\n",
      "tensor([[-0.1262,  0.1080, -0.1792]], grad_fn=<AddmmBackward0>)\n",
      "tensor([[0.3113, 0.3934, 0.2952]])\n",
      "Epoch: 001/003 | Batch 000/002 | Train Loss: 0.67\n",
      "Epoch: 001/003 | Batch 001/002 | Train Loss: 0.24\n",
      "Epoch: 002/003 | Batch 000/002 | Train Loss: 0.01\n",
      "Epoch: 002/003 | Batch 001/002 | Train Loss: 0.34\n",
      "Epoch: 003/003 | Batch 000/002 | Train Loss: 0.10\n",
      "Epoch: 003/003 | Batch 001/002 | Train Loss: 0.04\n"
     ]
    }
   ],
   "source": [
    "# A logistic regression forward pass\n",
    "\n",
    "import torch.nn.functional as F  # A\n",
    "import torch\n",
    "from torch.autograd import grad\n",
    "\n",
    "y = torch.tensor([1.0])  # B\n",
    "x1 = torch.tensor([1.1])  # C\n",
    "w1 = torch.tensor([2.2], requires_grad=True)  # D\n",
    "b = torch.tensor([0.0], requires_grad=True)  # E\n",
    "z = x1 * w1 + b  # F\n",
    "a = torch.sigmoid(z)  # G\n",
    "\n",
    "loss = F.binary_cross_entropy(a, y)\n",
    "\n",
    "# A 这是 PyTorch 中常见的导入约定，用于避免代码行过长\n",
    "# B 真实标签\n",
    "# C 输入特征\n",
    "# D 权重参数\n",
    "# E 偏置单元\n",
    "# F 网络输入\n",
    "# G 激活与输出\n",
    "\n",
    "grad_L_w1 = grad(loss, w1, retain_graph=True)  # A\n",
    "grad_L_b = grad(loss, b, retain_graph=True)\n",
    "print(grad_L_w1)\n",
    "print(grad_L_b)\n",
    "\n",
    "# 自动反向传播计算loss\n",
    "loss.backward()\n",
    "print(w1.grad)\n",
    "print(b.grad)\n",
    "\n",
    "\n",
    "# A multilayer perceptron with two hidden layers\n",
    "\n",
    "class NeuralNetwork(torch.nn.Module):\n",
    "    def __init__(self, num_inputs, num_outputs):  # A\n",
    "        super().__init__()\n",
    "        self.layers = torch.nn.Sequential(\n",
    "            # 1st hidden layer\n",
    "            torch.nn.Linear(num_inputs, 30),  # B\n",
    "            torch.nn.ReLU(),  # C\n",
    "\n",
    "            # 2nd hidden layer\n",
    "            torch.nn.Linear(30, 20),  # D\n",
    "            torch.nn.ReLU(),\n",
    "\n",
    "            # output layer\n",
    "            torch.nn.Linear(20, num_outputs),\n",
    "        )\n",
    "\n",
    "    def forward(self, x):\n",
    "        logits = self.layers(x)\n",
    "        return logits  # E\n",
    "\n",
    "\n",
    "# A 将输入和输出的数量编码为变量很有用，这样可以为具有不同特征和类别数量的数据集重用相同的代码。\n",
    "# B Linear 层将输入和输出节点的数量作为参数。\n",
    "# C 非线性激活函数放置在隐藏层之间。\n",
    "# D 一个隐藏层的输出节点数必须与下一个隐藏层的输入节点数相匹配。\n",
    "# E 最后一层的输出被称为 logits。\n",
    "\n",
    "model = NeuralNetwork(50, 3)\n",
    "print(model)\n",
    "num_params = sum(p.numel() for p in model.parameters() if p.requires_grad)\n",
    "print(\"Total number of trainable model parameters:\", num_params)\n",
    "\n",
    "torch.manual_seed(123)\n",
    "model = NeuralNetwork(50, 3)\n",
    "print(model.layers[0].weight)\n",
    "\n",
    "# 前向传播\n",
    "torch.manual_seed(123)\n",
    "X = torch.rand((1, 50))\n",
    "out = model(X)\n",
    "print(out)\n",
    "\n",
    "# 当我们将模型用于推理（例如，进行预测）而不是训练时，最佳实践是使用 torch.no_grad() 上下文管理器，这告诉pytorch不需要训练跟踪梯度\n",
    "with torch.no_grad():\n",
    "    out = torch.softmax(model(X), dim=1)\n",
    "print(out)\n",
    "\n",
    "import torch.nn.functional as F\n",
    "\n",
    "torch.manual_seed(123)\n",
    "model = NeuralNetwork(num_inputs=2, num_outputs=2)  # A\n",
    "optimizer = torch.optim.SGD(model.parameters(), lr=0.5)  # B\n",
    "\n",
    "'''\n",
    "数据加载器\n",
    "'''\n",
    "X_train = torch.tensor([\n",
    "    [-1.2, 3.1],\n",
    "    [-0.9, 2.9],\n",
    "    [-0.5, 2.6],\n",
    "    [2.3, -1.1],\n",
    "    [2.7, -1.5]\n",
    "])\n",
    "y_train = torch.tensor([0, 0, 0, 1, 1])\n",
    "\n",
    "X_test = torch.tensor([\n",
    "    [-0.8, 2.8],\n",
    "    [2.6, -1.6],\n",
    "])\n",
    "y_test = torch.tensor([0, 1])\n",
    "\n",
    "from torch.utils.data import Dataset\n",
    "\n",
    "\n",
    "class ToyDataset(Dataset):\n",
    "    def __init__(self, X, y):\n",
    "        self.features = X\n",
    "        self.labels = y\n",
    "\n",
    "    def __getitem__(self, index):  # A\n",
    "        one_x = self.features[index]  # A\n",
    "        one_y = self.labels[index]  # A\n",
    "        return one_x, one_y  # A\n",
    "\n",
    "    def __len__(self):\n",
    "        return self.labels.shape[0]  # B\n",
    "\n",
    "\n",
    "train_ds = ToyDataset(X_train, y_train)\n",
    "test_ds = ToyDataset(X_test, y_test)\n",
    "\n",
    "# Listing A.7 Instantiating data loaders\n",
    "\n",
    "from torch.utils.data import DataLoader\n",
    "\n",
    "torch.manual_seed(123)\n",
    "\n",
    "train_loader = DataLoader(\n",
    "    dataset=train_ds,       #A\n",
    "    batch_size=2,\n",
    "    shuffle=True,           #B\n",
    "    num_workers=0,           #C\n",
    "    drop_last=True\n",
    ")\n",
    "\n",
    "test_loader = DataLoader(\n",
    "    dataset=test_ds,\n",
    "    batch_size=2,\n",
    "    shuffle=False,          #D\n",
    "    num_workers=0\n",
    ")\n",
    "\n",
    "\n",
    "#A 之前创建的 ToyDataset 实例作为数据加载器的输入。\n",
    "#B 是否打乱数据\n",
    "#C 后台进程的数量\n",
    "#D 没有必要打乱测试数据\n",
    "\n",
    "'''\n",
    "批量训练\n",
    "'''\n",
    "num_epochs = 3\n",
    "\n",
    "for epoch in range(num_epochs):\n",
    "\n",
    "    model.train()\n",
    "    for batch_idx, (features, labels) in enumerate(train_loader):\n",
    "        logits = model(features)\n",
    "        loss = F.cross_entropy(logits, labels)\n",
    "\n",
    "        optimizer.zero_grad()  # C\n",
    "        loss.backward()  # D\n",
    "        optimizer.step()  # E\n",
    "\n",
    "        ### LOGGING\n",
    "        print(f\"Epoch: {epoch + 1:03d}/{num_epochs:03d}\"\n",
    "              f\" | Batch {batch_idx:03d}/{len(train_loader):03d}\"\n",
    "              f\" | Train Loss: {loss:.2f}\")\n",
    "\n",
    "    model.eval()\n",
    "    # Optional model evaluation\n",
    "\n",
    "# A 上一节的数据集包含 2 个特征和 2 个类别\n",
    "# B 我们让优化器知道需要优化哪些参数\n",
    "# C 将上一轮的梯度设置为零，以防止意外的梯度累积\n",
    "# D 计算损失函数相对于模型参数的梯度\n",
    "# E 优化器使用梯度来更新模型参数"
   ]
  },
  {
   "cell_type": "code",
   "execution_count": 2,
   "outputs": [
    {
     "name": "stdout",
     "output_type": "stream",
     "text": [
      "tensor([[ 2.3852, -3.5150],\n",
      "        [ 2.1389, -3.1915],\n",
      "        [ 1.7915, -2.7423],\n",
      "        [-1.4977,  1.4431],\n",
      "        [-1.7264,  1.6689]])\n",
      "tensor([[0.9973, 0.0027],\n",
      "        [0.9952, 0.0048],\n",
      "        [0.9894, 0.0106],\n",
      "        [0.0502, 0.9498],\n",
      "        [0.0324, 0.9676]])\n"
     ]
    }
   ],
   "source": [
    "# 训练完再进行预测\n",
    "model.eval()\n",
    "with torch.no_grad():\n",
    "    outputs = model(X_train)\n",
    "print(outputs)\n",
    "\n",
    "torch.set_printoptions(sci_mode=False)\n",
    "probas = torch.softmax(outputs, dim=1)\n",
    "print(probas)"
   ],
   "metadata": {
    "collapsed": false,
    "ExecuteTime": {
     "end_time": "2025-04-11T09:14:05.191971Z",
     "start_time": "2025-04-11T09:14:05.179290800Z"
    }
   }
  },
  {
   "cell_type": "code",
   "execution_count": 9,
   "outputs": [
    {
     "name": "stdout",
     "output_type": "stream",
     "text": [
      "tensor([0, 0, 0, 1, 1])\n",
      "tensor([0, 0, 0, 1, 1])\n"
     ]
    }
   ],
   "source": [
    "predictions = torch.argmax(probas, dim=-1)\n",
    "print(predictions)\n",
    "\n",
    "predictions = torch.argmax(outputs, dim=1)\n",
    "print(predictions)"
   ],
   "metadata": {
    "collapsed": false,
    "ExecuteTime": {
     "end_time": "2025-04-11T09:20:17.317780300Z",
     "start_time": "2025-04-11T09:20:17.304191800Z"
    }
   }
  },
  {
   "cell_type": "code",
   "execution_count": 10,
   "outputs": [
    {
     "data": {
      "text/plain": "tensor(5)"
     },
     "execution_count": 10,
     "metadata": {},
     "output_type": "execute_result"
    }
   ],
   "source": [
    "torch.sum(predictions == y_train)"
   ],
   "metadata": {
    "collapsed": false,
    "ExecuteTime": {
     "end_time": "2025-04-11T09:21:01.751384800Z",
     "start_time": "2025-04-11T09:21:01.727576400Z"
    }
   }
  },
  {
   "cell_type": "code",
   "execution_count": 11,
   "outputs": [],
   "source": [
    "# A function to compute the prediction accuracy\n",
    "\n",
    "def compute_accuracy(model, dataloader):\n",
    "\n",
    "    model = model.eval()\n",
    "    correct = 0.0\n",
    "    total_examples = 0\n",
    "\n",
    "    for idx, (features, labels) in enumerate(dataloader):\n",
    "        with torch.no_grad():\n",
    "        \t\tlogits = model(features)\n",
    "\n",
    "        predictions = torch.argmax(logits, dim=1)\n",
    "        compare = labels == predictions              #A\n",
    "        correct += torch.sum(compare)                #B\n",
    "        total_examples += len(compare)\n",
    "\n",
    "    return (correct / total_examples).item()         #C\n",
    "\n",
    "\n",
    "#A 这会返回一个由 True/False 值组成的张量，取决于标签是否匹配\n",
    "#B sum 操作会计算 True 值的数量\n",
    "#C 这是正确预测的比例，一个介于 0 和 1 之间的值。并且 .item() 返回张量的值作为 Python 浮点数。"
   ],
   "metadata": {
    "collapsed": false,
    "ExecuteTime": {
     "end_time": "2025-04-11T09:31:25.740718300Z",
     "start_time": "2025-04-11T09:31:25.732637500Z"
    }
   }
  },
  {
   "cell_type": "code",
   "execution_count": 12,
   "outputs": [
    {
     "name": "stdout",
     "output_type": "stream",
     "text": [
      "1.0\n"
     ]
    }
   ],
   "source": [
    "print(compute_accuracy(model, train_loader))"
   ],
   "metadata": {
    "collapsed": false,
    "ExecuteTime": {
     "end_time": "2025-04-11T09:35:53.361660900Z",
     "start_time": "2025-04-11T09:35:53.351004200Z"
    }
   }
  },
  {
   "cell_type": "code",
   "execution_count": 13,
   "outputs": [
    {
     "name": "stdout",
     "output_type": "stream",
     "text": [
      "False\n"
     ]
    }
   ],
   "source": [
    "print(torch.cuda.is_available())"
   ],
   "metadata": {
    "collapsed": false,
    "ExecuteTime": {
     "end_time": "2025-04-11T09:43:25.514202700Z",
     "start_time": "2025-04-11T09:43:25.505084900Z"
    }
   }
  }
 ],
 "metadata": {
  "kernelspec": {
   "display_name": "Python 3",
   "language": "python",
   "name": "python3"
  },
  "language_info": {
   "codemirror_mode": {
    "name": "ipython",
    "version": 2
   },
   "file_extension": ".py",
   "mimetype": "text/x-python",
   "name": "python",
   "nbconvert_exporter": "python",
   "pygments_lexer": "ipython2",
   "version": "2.7.6"
  }
 },
 "nbformat": 4,
 "nbformat_minor": 0
}
